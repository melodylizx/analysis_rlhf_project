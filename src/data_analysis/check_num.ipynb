{
 "cells": [
  {
   "cell_type": "code",
   "execution_count": 2,
   "metadata": {},
   "outputs": [],
   "source": [
    "# -*- coding: utf-8 -*-\n",
    "# load datasets\n",
    "from datasets import load_dataset\n",
    "import pandas as pd\n",
    "import warnings\n",
    "from utils import filter_duplicates_disagreement, create_post2summaries_ratings, create_dict_comparision, process_comparisons_df, update_summary_t2id\n",
    "import worker_modeling\n",
    "\n",
    "warnings.filterwarnings('ignore')\n",
    "\n",
    "comparisons = load_dataset(\"openai/summarize_from_feedback\", name=\"comparisons\")\n",
    "axis = load_dataset(\"openai/summarize_from_feedback\", name=\"axis\")\n",
    "\n",
    "comparisons_train = comparisons[\"train\"]\n",
    "comparisons_val = comparisons[\"validation\"]\n",
    "axis_val = axis[\"validation\"]\n",
    "\n",
    "\n",
    "comparisons_validation_dict = create_dict_comparision(comparisons_val)\n",
    "comparisons_train_validation_dict = create_dict_comparision(comparisons_train)\n",
    "comparisons_train_validation_dict.update(comparisons_validation_dict)\n",
    "\n",
    "rating_validation_overlap, repeated_summaries, summary_text2id = create_post2summaries_ratings(axis_val)\n",
    "\n",
    "complete_summary_t2id = update_summary_t2id(comparisons_train, summary_text2id)\n",
    "comparisons_train_df = process_comparisons_df(comparisons_train,complete_summary_t2id)\n",
    "comp_train_df_dup = filter_duplicates_disagreement(comparisons_train_df)\n",
    "\n",
    "#full validation set\n",
    "complete_summary_t2id = update_summary_t2id(comparisons_val, summary_text2id)\n",
    "comparisons_validation_df = process_comparisons_df(comparisons_val,complete_summary_t2id)\n",
    "comp_val_df_dup = filter_duplicates_disagreement(comparisons_validation_df)"
   ]
  },
  {
   "cell_type": "code",
   "execution_count": 3,
   "metadata": {},
   "outputs": [
    {
     "data": {
      "text/plain": [
       "178944"
      ]
     },
     "execution_count": 3,
     "metadata": {},
     "output_type": "execute_result"
    }
   ],
   "source": [
    "total_annotated_pairs = len(comparisons_train)+len(comparisons_val)\n",
    "total_annotated_pairs"
   ]
  },
  {
   "cell_type": "code",
   "execution_count": 4,
   "metadata": {},
   "outputs": [
    {
     "data": {
      "text/plain": [
       "41287"
      ]
     },
     "execution_count": 4,
     "metadata": {},
     "output_type": "execute_result"
    }
   ],
   "source": [
    "dis_and_dup= total_annotated_pairs -(len(comp_val_df_dup)+len(comp_train_df_dup)) \n",
    "dis_and_dup"
   ]
  },
  {
   "cell_type": "code",
   "execution_count": 5,
   "metadata": {},
   "outputs": [
    {
     "name": "stdout",
     "output_type": "stream",
     "text": [
      "70042 57615 10000\n"
     ]
    }
   ],
   "source": [
    "len_training = len(comp_train_df_dup)\n",
    "validation_set = comp_val_df_dup[:-10000]\n",
    "test_set = comp_val_df_dup[-10000:]\n",
    "len_valid= len(validation_set)\n",
    "len_testing = len(test_set)\n",
    "print(len_training,len_valid ,len_testing)"
   ]
  },
  {
   "cell_type": "code",
   "execution_count": 10,
   "metadata": {},
   "outputs": [
    {
     "name": "stdout",
     "output_type": "stream",
     "text": [
      "choice\n",
      "1    69447\n",
      "0    68210\n",
      "Name: count, dtype: int64\n"
     ]
    }
   ],
   "source": [
    "choice_distribution_train = comp_train_df_dup['choice'].value_counts()\n",
    "choice_distribution_val = comp_val_df_dup['choice'].value_counts()\n",
    "\n",
    "combined_choice_distribution = choice_distribution_train.add(choice_distribution_val, fill_value=0)\n",
    "\n",
    "print(combined_choice_distribution)\n"
   ]
  },
  {
   "cell_type": "code",
   "execution_count": 13,
   "metadata": {},
   "outputs": [
    {
     "name": "stdout",
     "output_type": "stream",
     "text": [
      "Total unique workers: 73\n"
     ]
    }
   ],
   "source": [
    "combined_df = pd.concat([comp_train_df_dup, comp_val_df_dup])\n",
    "\n",
    "unique_workers_count = combined_df['worker'].nunique()\n",
    "\n",
    "print(f\"Total unique workers: {unique_workers_count}\")\n"
   ]
  },
  {
   "cell_type": "code",
   "execution_count": null,
   "metadata": {},
   "outputs": [],
   "source": []
  }
 ],
 "metadata": {
  "kernelspec": {
   "display_name": "ker_alpha",
   "language": "python",
   "name": "myenv"
  },
  "language_info": {
   "codemirror_mode": {
    "name": "ipython",
    "version": 3
   },
   "file_extension": ".py",
   "mimetype": "text/x-python",
   "name": "python",
   "nbconvert_exporter": "python",
   "pygments_lexer": "ipython3",
   "version": "3.8.18"
  }
 },
 "nbformat": 4,
 "nbformat_minor": 4
}
